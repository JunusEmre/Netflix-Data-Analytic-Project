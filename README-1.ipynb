{
 "cells": [
  {
   "cell_type": "markdown",
   "id": "33528e02",
   "metadata": {},
   "source": [
    "# Netflix Data Exploration Project\n",
    "\n",
    "A data science analysis of a Netflix dataset using Python, with insights extracted via visualizations and a custom content-based recommender system.\n",
    "\n",
    "## Project Overview\n",
    "\n",
    "This project explores patterns in Netflix's content — uncovering genre distributions, cast frequencies, release year trends, and regional contributions. It also includes a recommender system that suggests similar shows based on textual similarity from genre and description.\n",
    "\n",
    "## Files Included\n",
    "\n",
    "| File | Description |\n",
    "|------|-------------|\n",
    "| `Netflix.csv` | Original dataset |\n",
    "| `Netflix_Analysis.ipynb` | Jupyter notebook with full visualizations and analysis |\n",
    "| `dashboard_app.py` | Streamlit app for interactive genre/country filtering |\n",
    "| `presentation.pdf` | High-level summary for general audiences |\n",
    "| `README.md` | Project documentation (you’re reading it!) |\n",
    "\n",
    "## Visualizations Included\n",
    "\n",
    "- Distribution of content types (Movies vs TV Shows)\n",
    "- Release year trends\n",
    "- Top Producing Countries\n",
    "- Most Common Ratings\n",
    "- Popular Categories / Genres\n",
    "- TV Show Duration Analysis\n",
    "- Actor appearance frequency\n",
    "- Genre-based word cloud\n",
    "\n",
    "## Recommender System\n",
    "\n",
    "A content-based model using TF-IDF vectorization of genre + description to suggest similar titles to any chosen one.\n",
    "\n",
    "Example:\n",
    "```python\n",
    "recommend(\"Kota Factory\")\n",
    "\n"
   ]
  },
  {
   "cell_type": "markdown",
   "id": "51322861",
   "metadata": {},
   "source": [
    "# Netflix Dashboard App\n",
    "\n",
    "### How to Run the App\n",
    "\n",
    "To view the interactive Netflix dashboard locally, follow these steps:\n",
    "\n",
    "1. **Install Streamlit** (if you haven’t already) open your Terminal from the computer:\n",
    "   ```bash\n",
    "   pip install streamlit\n",
    "\n",
    "2. Navigate to your project folder in the terminal:\n",
    "    ```bash\n",
    "    cd \"C:\\Users\\Mryun\\OneDrive\\PythonProjects\\Netflix_project\"\n",
    "    \n",
    "3. Run the dashboard app:\n",
    "    ```bash\n",
    "    streamlit run dashboard_app.py\n",
    "\n",
    "Once the app starts, it will automatically open in your web browser!\n"
   ]
  },
  {
   "cell_type": "markdown",
   "id": "ce9398f1",
   "metadata": {},
   "source": [
    "## Requirements\n",
    "\n",
    "This project uses the following Python packages:\n",
    "\n",
    "- pandas\n",
    "- numpy\n",
    "- matplotlib\n",
    "- seaborn\n",
    "- scikit-learn\n",
    "- xgboost\n",
    "- lightgbm\n",
    "- tensorflow\n",
    "- keras\n",
    "- statsmodels\n",
    "- plotly\n",
    "- streamlit\n",
    "- joblib\n",
    "- openpyxl\n"
   ]
  },
  {
   "cell_type": "markdown",
   "id": "f221d5eb",
   "metadata": {},
   "source": []
  }
 ],
 "metadata": {
  "language_info": {
   "name": "python"
  }
 },
 "nbformat": 4,
 "nbformat_minor": 5
}
